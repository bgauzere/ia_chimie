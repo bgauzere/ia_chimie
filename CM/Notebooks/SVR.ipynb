{
 "cells": [
  {
   "cell_type": "code",
   "execution_count": 4,
   "metadata": {},
   "outputs": [
    {
     "data": {
      "text/plain": [
       "<matplotlib.collections.PathCollection at 0x7fd2ce06a880>"
      ]
     },
     "execution_count": 4,
     "metadata": {},
     "output_type": "execute_result"
    },
    {
     "data": {
      "image/png": "[encoded data removed]",
      "text/plain": [
       "<Figure size 432x288 with 1 Axes>"
      ]
     },
     "metadata": {
      "needs_background": "light"
     },
     "output_type": "display_data"
    }
   ],
   "source": [
    "from sklearn.datasets import make_regression\n",
    "import numpy as np\n",
    "X,y = make_regression(n_samples=30, n_features=1,bias=10,noise=10)\n",
    "import matplotlib.pyplot as plt\n",
    "plt.scatter(X,y)"
   ]
  },
  {
   "cell_type": "code",
   "execution_count": 10,
   "metadata": {},
   "outputs": [
    {
     "data": {
      "text/plain": [
       "10"
      ]
     },
     "execution_count": 10,
     "metadata": {},
     "output_type": "execute_result"
    }
   ],
   "source": [
    "from sklearn.svm import SVR\n",
    "regressor = SVR(kernel=\"linear\",C=10,epsilon=10)\n",
    "regressor.fit(X,y)\n",
    "regressor.epsilon"
   ]
  },
  {
   "cell_type": "code",
   "execution_count": 11,
   "metadata": {},
   "outputs": [
    {
     "data": {
      "text/plain": [
       "[<matplotlib.lines.Line2D at 0x7fd2cc3358e0>]"
      ]
     },
     "execution_count": 11,
     "metadata": {},
     "output_type": "execute_result"
    },
    {
     "data": {
      "image/png": "[encoded data removed]",
      "text/plain": [
       "<Figure size 432x288 with 1 Axes>"
      ]
     },
     "metadata": {
      "needs_background": "light"
     },
     "output_type": "display_data"
    }
   ],
   "source": [
    "plotting_x = np.linspace(np.min(X),np.max(X))\n",
    "pred = regressor.predict(plotting_x.reshape(-1,1))\n",
    "plt.scatter(X,y)\n",
    "plt.plot(plotting_x,pred,c='k')\n",
    "plt.plot(plotting_x,pred+regressor.epsilon,'k--')\n",
    "plt.plot(plotting_x,pred-regressor.epsilon,'k--')\n"
   ]
  },
  {
   "cell_type": "code",
   "execution_count": 1,
   "metadata": {},
   "outputs": [
    {
     "name": "stdout",
     "output_type": "stream",
     "text": [
      "(506, 13) (506,)\n"
     ]
    }
   ],
   "source": [
    "from sklearn.datasets import load_boston\n",
    "\n",
    "X,y = load_boston(return_X_y=True)\n",
    "print(X.shape,y.shape)"
   ]
  },
  {
   "cell_type": "code",
   "execution_count": 2,
   "metadata": {},
   "outputs": [],
   "source": [
    "from sklearn.model_selection import train_test_split\n",
    "X_train,X_test,y_train,y_test = train_test_split(X,y,test_size=.25)"
   ]
  },
  {
   "cell_type": "code",
   "execution_count": 5,
   "metadata": {},
   "outputs": [
    {
     "name": "stdout",
     "output_type": "stream",
     "text": [
      "{'C': array([ 0.01      ,  0.31622777, 10.        ]), 'epsilon': array([ 0.1,  1. , 10. ])}\n",
      "Fitting 3 folds for each of 9 candidates, totalling 27 fits\n",
      "[CV] C=0.01, epsilon=0.1 .............................................\n",
      "[CV] ................. C=0.01, epsilon=0.1, score=0.602, total=   0.0s\n",
      "[CV] C=0.01, epsilon=0.1 .............................................\n",
      "[CV] ................. C=0.01, epsilon=0.1, score=0.655, total=   0.0s\n",
      "[CV] C=0.01, epsilon=0.1 .............................................\n",
      "[CV] ................. C=0.01, epsilon=0.1, score=0.572, total=   0.0s\n",
      "[CV] C=0.01, epsilon=1.0 .............................................\n",
      "[CV] ................. C=0.01, epsilon=1.0, score=0.605, total=   0.0s\n",
      "[CV] C=0.01, epsilon=1.0 .............................................\n",
      "[CV] ................. C=0.01, epsilon=1.0, score=0.646, total=   0.0s\n",
      "[CV] C=0.01, epsilon=1.0 .............................................\n",
      "[CV] ................. C=0.01, epsilon=1.0, score=0.586, total=   0.0s\n",
      "[CV] C=0.01, epsilon=10.0 ............................................\n",
      "[CV] ................ C=0.01, epsilon=10.0, score=0.412, total=   0.0s\n",
      "[CV] C=0.01, epsilon=10.0 ............................................\n",
      "[CV] ................ C=0.01, epsilon=10.0, score=0.432, total=   0.0s\n",
      "[CV] C=0.01, epsilon=10.0 ............................................\n",
      "[CV] ................ C=0.01, epsilon=10.0, score=0.484, total=   0.0s\n",
      "[CV] C=0.31622776601683794, epsilon=0.1 ..............................\n"
     ]
    },
    {
     "name": "stderr",
     "output_type": "stream",
     "text": [
      "[Parallel(n_jobs=1)]: Using backend SequentialBackend with 1 concurrent workers.\n",
      "[Parallel(n_jobs=1)]: Done   1 out of   1 | elapsed:    0.0s remaining:    0.0s\n",
      "[Parallel(n_jobs=1)]: Done   2 out of   2 | elapsed:    0.1s remaining:    0.0s\n",
      "[Parallel(n_jobs=1)]: Done   3 out of   3 | elapsed:    0.1s remaining:    0.0s\n",
      "[Parallel(n_jobs=1)]: Done   4 out of   4 | elapsed:    0.1s remaining:    0.0s\n",
      "[Parallel(n_jobs=1)]: Done   5 out of   5 | elapsed:    0.1s remaining:    0.0s\n",
      "[Parallel(n_jobs=1)]: Done   6 out of   6 | elapsed:    0.1s remaining:    0.0s\n",
      "[Parallel(n_jobs=1)]: Done   7 out of   7 | elapsed:    0.2s remaining:    0.0s\n",
      "[Parallel(n_jobs=1)]: Done   8 out of   8 | elapsed:    0.2s remaining:    0.0s\n",
      "[Parallel(n_jobs=1)]: Done   9 out of   9 | elapsed:    0.2s remaining:    0.0s\n"
     ]
    },
    {
     "name": "stdout",
     "output_type": "stream",
     "text": [
      "[CV] .. C=0.31622776601683794, epsilon=0.1, score=0.728, total=   0.4s\n",
      "[CV] C=0.31622776601683794, epsilon=0.1 ..............................\n",
      "[CV] .. C=0.31622776601683794, epsilon=0.1, score=0.702, total=   0.6s\n",
      "[CV] C=0.31622776601683794, epsilon=0.1 ..............................\n",
      "[CV] .. C=0.31622776601683794, epsilon=0.1, score=0.696, total=   0.6s\n",
      "[CV] C=0.31622776601683794, epsilon=1.0 ..............................\n",
      "[CV] .. C=0.31622776601683794, epsilon=1.0, score=0.722, total=   0.4s\n",
      "[CV] C=0.31622776601683794, epsilon=1.0 ..............................\n",
      "[CV] .. C=0.31622776601683794, epsilon=1.0, score=0.702, total=   0.3s\n",
      "[CV] C=0.31622776601683794, epsilon=1.0 ..............................\n",
      "[CV] .. C=0.31622776601683794, epsilon=1.0, score=0.697, total=   0.7s\n",
      "[CV] C=0.31622776601683794, epsilon=10.0 .............................\n",
      "[CV] . C=0.31622776601683794, epsilon=10.0, score=0.541, total=   0.0s\n",
      "[CV] C=0.31622776601683794, epsilon=10.0 .............................\n",
      "[CV] . C=0.31622776601683794, epsilon=10.0, score=0.580, total=   0.0s\n",
      "[CV] C=0.31622776601683794, epsilon=10.0 .............................\n",
      "[CV] . C=0.31622776601683794, epsilon=10.0, score=0.515, total=   0.0s\n",
      "[CV] C=10.0, epsilon=0.1 .............................................\n",
      "[CV] ................. C=10.0, epsilon=0.1, score=0.727, total=   9.7s\n",
      "[CV] C=10.0, epsilon=0.1 .............................................\n",
      "[CV] ................. C=10.0, epsilon=0.1, score=0.707, total=   9.3s\n",
      "[CV] C=10.0, epsilon=0.1 .............................................\n",
      "[CV] ................. C=10.0, epsilon=0.1, score=0.682, total=  13.4s\n",
      "[CV] C=10.0, epsilon=1.0 .............................................\n",
      "[CV] ................. C=10.0, epsilon=1.0, score=0.731, total=  28.8s\n",
      "[CV] C=10.0, epsilon=1.0 .............................................\n",
      "[CV] ................. C=10.0, epsilon=1.0, score=0.691, total=  12.1s\n",
      "[CV] C=10.0, epsilon=1.0 .............................................\n",
      "[CV] ................. C=10.0, epsilon=1.0, score=0.694, total=  13.9s\n",
      "[CV] C=10.0, epsilon=10.0 ............................................\n",
      "[CV] ................ C=10.0, epsilon=10.0, score=0.561, total=   1.0s\n",
      "[CV] C=10.0, epsilon=10.0 ............................................\n",
      "[CV] ................ C=10.0, epsilon=10.0, score=0.602, total=   1.1s\n",
      "[CV] C=10.0, epsilon=10.0 ............................................\n",
      "[CV] ................ C=10.0, epsilon=10.0, score=0.583, total=   0.1s\n"
     ]
    },
    {
     "name": "stderr",
     "output_type": "stream",
     "text": [
      "[Parallel(n_jobs=1)]: Done  27 out of  27 | elapsed:  1.5min finished\n"
     ]
    },
    {
     "data": {
      "text/plain": [
       "GridSearchCV(cv=3, error_score=nan,\n",
       "             estimator=SVR(C=1.0, cache_size=200, coef0=0.0, degree=3,\n",
       "                           epsilon=0.1, gamma='scale', kernel='linear',\n",
       "                           max_iter=-1, shrinking=True, tol=0.001,\n",
       "                           verbose=False),\n",
       "             iid='deprecated', n_jobs=None,\n",
       "             param_grid={'C': array([ 0.01      ,  0.31622777, 10.        ]),\n",
       "                         'epsilon': array([ 0.1,  1. , 10. ])},\n",
       "             pre_dispatch='2*n_jobs', refit=True, return_train_score=False,\n",
       "             scoring=None, verbose=10)"
      ]
     },
     "execution_count": 5,
     "metadata": {},
     "output_type": "execute_result"
    }
   ],
   "source": [
    "from sklearn.model_selection import GridSearchCV\n",
    "from sklearn.svm import SVR \n",
    "import numpy as np\n",
    "model = SVR(kernel=\"linear\")\n",
    "params = {\"C\": np.logspace(-2,1,3), \"epsilon\":np.logspace(-1,1,3)}\n",
    "print(params)\n",
    "clf = GridSearchCV(model,params,verbose=10,cv=3)\n",
    "clf.fit(X_train,y_train)"
   ]
  },
  {
   "cell_type": "code",
   "execution_count": 7,
   "metadata": {},
   "outputs": [
    {
     "data": {
      "text/plain": [
       "SVR(C=0.31622776601683794, cache_size=200, coef0=0.0, degree=3, epsilon=0.1,\n",
       "    gamma='scale', kernel='linear', max_iter=-1, shrinking=True, tol=0.001,\n",
       "    verbose=False)"
      ]
     },
     "execution_count": 7,
     "metadata": {},
     "output_type": "execute_result"
    }
   ],
   "source": [
    "clf.best_estimator_"
   ]
  },
  {
   "cell_type": "code",
   "execution_count": 12,
   "metadata": {},
   "outputs": [
    {
     "name": "stdout",
     "output_type": "stream",
     "text": [
      "0.7085584792668689\n",
      "0.6254774875980119\n"
     ]
    }
   ],
   "source": [
    "print(clf.best_score_)\n",
    "print(clf.score(X_test,y_test))"
   ]
  },
  {
   "cell_type": "code",
   "execution_count": 16,
   "metadata": {},
   "outputs": [
    {
     "data": {
      "text/plain": [
       "<matplotlib.collections.PathCollection at 0x7f09d4a5d9d0>"
      ]
     },
     "execution_count": 16,
     "metadata": {},
     "output_type": "execute_result"
    },
    {
     "data": {
      "image/png": "[encoded data removed]",
      "text/plain": [
       "<Figure size 432x288 with 1 Axes>"
      ]
     },
     "metadata": {
      "needs_background": "light"
     },
     "output_type": "display_data"
    }
   ],
   "source": [
    "import matplotlib.pyplot as plt\n",
    "rng = np.random.RandomState(0)\n",
    "\n",
    "# #############################################################################\n",
    "# Generate sample data\n",
    "X = 5 * rng.rand(100, 1)\n",
    "y = np.sin(X).ravel()\n",
    "\n",
    "# Add noise to targets\n",
    "y[::5] += 3 * (0.5 - rng.rand(X.shape[0] // 5))\n",
    "\n",
    "#X_plot = np.linspace(0, 5, 100000)[:, None]\n",
    "\n",
    "plt.scatter(X,y)#[:100,:],y[:100])\n"
   ]
  },
  {
   "cell_type": "code",
   "execution_count": 17,
   "metadata": {},
   "outputs": [
    {
     "name": "stdout",
     "output_type": "stream",
     "text": [
      "{'C': array([ 0.01      ,  0.31622777, 10.        ]), 'epsilon': array([ 0.1,  1. , 10. ])}\n",
      "Fitting 3 folds for each of 9 candidates, totalling 27 fits\n",
      "[CV] C=0.01, epsilon=0.1 .............................................\n",
      "[CV] ................. C=0.01, epsilon=0.1, score=0.353, total=   0.0s\n",
      "[CV] C=0.01, epsilon=0.1 .............................................\n",
      "[CV] ................. C=0.01, epsilon=0.1, score=0.281, total=   0.0s\n",
      "[CV] C=0.01, epsilon=0.1 .............................................\n",
      "[CV] ................. C=0.01, epsilon=0.1, score=0.484, total=   0.0s\n",
      "[CV] C=0.01, epsilon=1.0 .............................................\n",
      "[CV] ................. C=0.01, epsilon=1.0, score=0.095, total=   0.0s\n",
      "[CV] C=0.01, epsilon=1.0 .............................................\n",
      "[CV] ................ C=0.01, epsilon=1.0, score=-0.110, total=   0.0s\n",
      "[CV] C=0.01, epsilon=1.0 .............................................\n",
      "[CV] ................. C=0.01, epsilon=1.0, score=0.063, total=   0.0s\n",
      "[CV] C=0.01, epsilon=10.0 ............................................\n",
      "[CV] ............... C=0.01, epsilon=10.0, score=-0.000, total=   0.0s\n",
      "[CV] C=0.01, epsilon=10.0 ............................................\n",
      "[CV] ............... C=0.01, epsilon=10.0, score=-1.062, total=   0.0s\n",
      "[CV] C=0.01, epsilon=10.0 ............................................\n",
      "[CV] ............... C=0.01, epsilon=10.0, score=-0.000, total=   0.0s\n",
      "[CV] C=0.31622776601683794, epsilon=0.1 ..............................\n",
      "[CV] .. C=0.31622776601683794, epsilon=0.1, score=0.406, total=   0.0s\n",
      "[CV] C=0.31622776601683794, epsilon=0.1 ..............................\n",
      "[CV] .. C=0.31622776601683794, epsilon=0.1, score=0.290, total=   0.0s\n",
      "[CV] C=0.31622776601683794, epsilon=0.1 ..............................\n",
      "[CV] .. C=0.31622776601683794, epsilon=0.1, score=0.389, total=   0.0s\n",
      "[CV] C=0.31622776601683794, epsilon=1.0 ..............................\n",
      "[CV] .. C=0.31622776601683794, epsilon=1.0, score=0.390, total=   0.0s\n",
      "[CV] C=0.31622776601683794, epsilon=1.0 ..............................\n",
      "[CV] .. C=0.31622776601683794, epsilon=1.0, score=0.016, total=   0.0s\n",
      "[CV] C=0.31622776601683794, epsilon=1.0 ..............................\n",
      "[CV] .. C=0.31622776601683794, epsilon=1.0, score=0.363, total=   0.0s\n",
      "[CV] C=0.31622776601683794, epsilon=10.0 .............................\n",
      "[CV]  C=0.31622776601683794, epsilon=10.0, score=-0.000, total=   0.0s\n",
      "[CV] C=0.31622776601683794, epsilon=10.0 .............................\n",
      "[CV]  C=0.31622776601683794, epsilon=10.0, score=-1.062, total=   0.0s\n",
      "[CV] C=0.31622776601683794, epsilon=10.0 .............................\n",
      "[CV]  C=0.31622776601683794, epsilon=10.0, score=-0.000, total=   0.0s\n",
      "[CV] C=10.0, epsilon=0.1 .............................................\n",
      "[CV] ................. C=10.0, epsilon=0.1, score=0.409, total=   0.0s\n",
      "[CV] C=10.0, epsilon=0.1 .............................................\n",
      "[CV] ................. C=10.0, epsilon=0.1, score=0.309, total=   0.0s\n",
      "[CV] C=10.0, epsilon=0.1 .............................................\n",
      "[CV] ................. C=10.0, epsilon=0.1, score=0.389, total=   0.0s\n",
      "[CV] C=10.0, epsilon=1.0 .............................................\n",
      "[CV] ................. C=10.0, epsilon=1.0, score=0.330, total=   0.0s\n",
      "[CV] C=10.0, epsilon=1.0 .............................................\n",
      "[CV] ................. C=10.0, epsilon=1.0, score=0.069, total=   0.0s\n",
      "[CV] C=10.0, epsilon=1.0 .............................................\n",
      "[CV] ................. C=10.0, epsilon=1.0, score=0.466, total=   0.0s\n",
      "[CV] C=10.0, epsilon=10.0 ............................................\n",
      "[CV] ............... C=10.0, epsilon=10.0, score=-0.000, total=   0.0s\n",
      "[CV] C=10.0, epsilon=10.0 ............................................\n",
      "[CV] ............... C=10.0, epsilon=10.0, score=-1.062, total=   0.0s\n",
      "[CV] C=10.0, epsilon=10.0 ............................................\n",
      "[CV] ............... C=10.0, epsilon=10.0, score=-0.000, total=   0.0s\n"
     ]
    },
    {
     "name": "stderr",
     "output_type": "stream",
     "text": [
      "[Parallel(n_jobs=1)]: Using backend SequentialBackend with 1 concurrent workers.\n",
      "[Parallel(n_jobs=1)]: Done   1 out of   1 | elapsed:    0.0s remaining:    0.0s\n",
      "[Parallel(n_jobs=1)]: Done   2 out of   2 | elapsed:    0.0s remaining:    0.0s\n",
      "[Parallel(n_jobs=1)]: Done   3 out of   3 | elapsed:    0.0s remaining:    0.0s\n",
      "[Parallel(n_jobs=1)]: Done   4 out of   4 | elapsed:    0.0s remaining:    0.0s\n",
      "[Parallel(n_jobs=1)]: Done   5 out of   5 | elapsed:    0.0s remaining:    0.0s\n",
      "[Parallel(n_jobs=1)]: Done   6 out of   6 | elapsed:    0.0s remaining:    0.0s\n",
      "[Parallel(n_jobs=1)]: Done   7 out of   7 | elapsed:    0.0s remaining:    0.0s\n",
      "[Parallel(n_jobs=1)]: Done   8 out of   8 | elapsed:    0.0s remaining:    0.0s\n",
      "[Parallel(n_jobs=1)]: Done   9 out of   9 | elapsed:    0.0s remaining:    0.0s\n",
      "[Parallel(n_jobs=1)]: Done  27 out of  27 | elapsed:    0.1s finished\n"
     ]
    },
    {
     "data": {
      "text/plain": [
       "GridSearchCV(cv=3, error_score=nan,\n",
       "             estimator=SVR(C=1.0, cache_size=200, coef0=0.0, degree=3,\n",
       "                           epsilon=0.1, gamma='scale', kernel='linear',\n",
       "                           max_iter=-1, shrinking=True, tol=0.001,\n",
       "                           verbose=False),\n",
       "             iid='deprecated', n_jobs=None,\n",
       "             param_grid={'C': array([ 0.01      ,  0.31622777, 10.        ]),\n",
       "                         'epsilon': array([ 0.1,  1. , 10. ])},\n",
       "             pre_dispatch='2*n_jobs', refit=True, return_train_score=False,\n",
       "             scoring=None, verbose=10)"
      ]
     },
     "execution_count": 17,
     "metadata": {},
     "output_type": "execute_result"
    }
   ],
   "source": [
    "from sklearn.model_selection import GridSearchCV\n",
    "from sklearn.svm import SVR \n",
    "import numpy as np\n",
    "model = SVR(kernel=\"linear\")\n",
    "params = {\"C\": np.logspace(-2,1,3), \"epsilon\":np.logspace(-1,1,3)}\n",
    "print(params)\n",
    "clf = GridSearchCV(model,params,verbose=10,cv=3)\n",
    "clf.fit(X,y)"
   ]
  },
  {
   "cell_type": "code",
   "execution_count": 18,
   "metadata": {},
   "outputs": [
    {
     "data": {
      "text/plain": [
       "[<matplotlib.lines.Line2D at 0x7f09d432b640>]"
      ]
     },
     "execution_count": 18,
     "metadata": {},
     "output_type": "execute_result"
    },
    {
     "data": {
      "image/png": "[encoded data removed]",
      "text/plain": [
       "<Figure size 432x288 with 1 Axes>"
      ]
     },
     "metadata": {
      "needs_background": "light"
     },
     "output_type": "display_data"
    }
   ],
   "source": [
    "plotting_x = np.linspace(np.min(X),np.max(X))\n",
    "pred = clf.predict(plotting_x.reshape((-1,1)))\n",
    "plt.scatter(X,y)\n",
    "plt.plot(plotting_x,pred,c='k')\n",
    "plt.plot(plotting_x,pred+clf.best_params_[\"epsilon\"],'k--')\n",
    "plt.plot(plotting_x,pred-clf.best_params_[\"epsilon\"],'k--')"
   ]
  },
  {
   "cell_type": "code",
   "execution_count": null,
   "metadata": {},
   "outputs": [],
   "source": []
  }
 ],
 "metadata": {
  "kernelspec": {
   "display_name": "Python 3 (ipykernel)",
   "language": "python",
   "name": "python3"
  },
  "language_info": {
   "codemirror_mode": {
    "name": "ipython",
    "version": 3
   },
   "file_extension": ".py",
   "mimetype": "text/x-python",
   "name": "python",
   "nbconvert_exporter": "python",
   "pygments_lexer": "ipython3",
   "version": "3.8.12"
  }
 },
 "nbformat": 4,
 "nbformat_minor": 4
}
