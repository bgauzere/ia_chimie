{
 "cells": [
  {
   "cell_type": "code",
   "execution_count": 3,
   "id": "30b26fd8-770c-4126-887d-82ca2a6d579e",
   "metadata": {},
   "outputs": [
    {
     "data": {
      "text/plain": [
       "(178, 13)"
      ]
     },
     "execution_count": 3,
     "metadata": {},
     "output_type": "execute_result"
    }
   ],
   "source": [
    "from sklearn.datasets import load_wine\n",
    "wine = load_wine()\n",
    "X=wine.data\n",
    "y=wine.target\n",
    "X.shape"
   ]
  },
  {
   "cell_type": "code",
   "execution_count": 9,
   "id": "2c72c4cf-4e8d-49de-82ad-96fe6b6dbfbe",
   "metadata": {},
   "outputs": [
    {
     "data": {
      "text/plain": [
       "0.9775280898876404"
      ]
     },
     "execution_count": 9,
     "metadata": {},
     "output_type": "execute_result"
    }
   ],
   "source": [
    "from sklearn.ensemble import RandomForestClassifier\n",
    "import numpy as np\n",
    "clf = RandomForestClassifier(n_estimators=20, min_samples_leaf=10)\n",
    "clf.fit(X,y)\n",
    "y_pred = clf.predict(X)\n",
    "np.mean(y_pred==y)"
   ]
  },
  {
   "cell_type": "code",
   "execution_count": 14,
   "id": "63042da7-4ef5-4810-8358-4500ce8fed91",
   "metadata": {},
   "outputs": [
    {
     "data": {
      "text/plain": [
       "0.9775280898876404"
      ]
     },
     "execution_count": 14,
     "metadata": {},
     "output_type": "execute_result"
    }
   ],
   "source": [
    "from sklearn.ensemble import GradientBoostingClassifier\n",
    "clf = GradientBoostingClassifier(n_estimators=3, min_samples_leaf=10,learning_rate=.1)\n",
    "clf.fit(X,y)\n",
    "y_pred = clf.predict(X)\n",
    "np.mean(y_pred==y)"
   ]
  },
  {
   "cell_type": "code",
   "execution_count": 15,
   "id": "fbd0f5bc-86ec-4dae-b6de-5e3cdf75a6d2",
   "metadata": {},
   "outputs": [
    {
     "data": {
      "text/plain": [
       "0.9943820224719101"
      ]
     },
     "execution_count": 15,
     "metadata": {},
     "output_type": "execute_result"
    }
   ],
   "source": [
    "from sklearn.svm import SVC\n",
    "clf = SVC(kernel=\"linear\")\n",
    "clf.fit(X,y)\n",
    "y_pred = clf.predict(X)\n",
    "np.mean(y_pred==y)\n"
   ]
  },
  {
   "cell_type": "code",
   "execution_count": null,
   "id": "66a882f1-5bda-429d-b06a-c221126b92d4",
   "metadata": {},
   "outputs": [],
   "source": []
  }
 ],
 "metadata": {
  "kernelspec": {
   "display_name": "ia_pour_la_chimie",
   "language": "python",
   "name": "ia_pour_la_chimie"
  },
  "language_info": {
   "codemirror_mode": {
    "name": "ipython",
    "version": 3
   },
   "file_extension": ".py",
   "mimetype": "text/x-python",
   "name": "python",
   "nbconvert_exporter": "python",
   "pygments_lexer": "ipython3",
   "version": "3.8.10"
  }
 },
 "nbformat": 4,
 "nbformat_minor": 5
}
