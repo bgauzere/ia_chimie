{
 "cells": [
  {
   "cell_type": "markdown",
   "metadata": {},
   "source": [
    "# Basic GNN Regressor on GREYC chemistry datasets\n",
    "inspired and derived from https://pytorch-geometric.readthedocs.io/en/latest/notes/colabs.html"
   ]
  },
  {
   "cell_type": "code",
   "execution_count": 1,
   "metadata": {},
   "outputs": [],
   "source": [
    "%load_ext autoreload\n",
    "%autoreload 2"
   ]
  },
  {
   "cell_type": "code",
   "execution_count": 2,
   "metadata": {
    "colab": {
     "base_uri": "https://localhost:8080/"
    },
    "id": "zn5U4EE6K86v",
    "outputId": "c003f212-2283-4f74-eb5f-00c0fb35ea4e"
   },
   "outputs": [],
   "source": [
    "import os\n",
    "import torch\n",
    "from tqdm import tqdm\n",
    "import numpy as np"
   ]
  },
  {
   "cell_type": "code",
   "execution_count": 4,
   "metadata": {
    "colab": {
     "base_uri": "https://localhost:8080/"
    },
    "id": "mHSP6-RBOqCE",
    "outputId": "ae211408-a548-40e5-844e-d6fd1c03d525"
   },
   "outputs": [
    {
     "name": "stderr",
     "output_type": "stream",
     "text": [
      "Processing...\n",
      "Done!\n"
     ]
    }
   ],
   "source": [
    "import torch\n",
    "from greycdata.datasets import GreycDataset\n",
    "#Choose Dataset between Acyclic, Alkane or MAO\n",
    "\n",
    "dataset = GreycDataset(name='Acyclic',root='data/Acyclic')"
   ]
  },
  {
   "cell_type": "code",
   "execution_count": 5,
   "metadata": {
    "colab": {
     "base_uri": "https://localhost:8080/"
    },
    "id": "mHSP6-RBOqCE",
    "outputId": "ae211408-a548-40e5-844e-d6fd1c03d525"
   },
   "outputs": [
    {
     "name": "stdout",
     "output_type": "stream",
     "text": [
      "Dataset: Acyclic:\n",
      "====================\n",
      "Number of graphs: 183\n",
      "Number of features: 15\n",
      "Number of classes: 148\n"
     ]
    }
   ],
   "source": [
    "print(f'Dataset: {dataset}:')\n",
    "print('====================')\n",
    "print(f'Number of graphs: {len(dataset)}')\n",
    "print(f'Number of features: {dataset.num_features}')\n",
    "print(f'Number of classes: {dataset.num_classes}')"
   ]
  },
  {
   "cell_type": "code",
   "execution_count": 6,
   "metadata": {
    "colab": {
     "base_uri": "https://localhost:8080/"
    },
    "id": "mHSP6-RBOqCE",
    "outputId": "ae211408-a548-40e5-844e-d6fd1c03d525"
   },
   "outputs": [
    {
     "name": "stdout",
     "output_type": "stream",
     "text": [
      "Number of nodes: 3\n",
      "Number of edges: 4\n",
      "Average node degree: 1.33\n",
      "Has isolated nodes: False\n",
      "Has self-loops: False\n",
      "Is undirected: True\n",
      "tensor([[1., 0., 0., 0., 0., 0., 0., 0., 0., 0., 0., 1., 0., 0., 0.],\n",
      "        [1., 0., 0., 0., 0., 0., 0., 0., 0., 0., 0., 1., 0., 0., 0.],\n",
      "        [0., 0., 1., 0., 0., 0., 0., 0., 0., 0., 0., 2., 0., 0., 0.]])\n"
     ]
    }
   ],
   "source": [
    "data = dataset[0]  # Get a graph object.\n",
    "print(f'Number of nodes: {data.num_nodes}')\n",
    "print(f'Number of edges: {data.num_edges}')\n",
    "print(f'Average node degree: {data.num_edges / data.num_nodes:.2f}')\n",
    "print(f'Has isolated nodes: {data.has_isolated_nodes()}')\n",
    "print(f'Has self-loops: {data.has_self_loops()}')\n",
    "print(f'Is undirected: {data.is_undirected()}')\n",
    "print(data.x)"
   ]
  },
  {
   "cell_type": "code",
   "execution_count": 7,
   "metadata": {
    "colab": {
     "base_uri": "https://localhost:8080/"
    },
    "id": "j11WiUr-PRH_",
    "outputId": "5f84abf9-05bc-4c62-95f1-5f80b603b0f0"
   },
   "outputs": [
    {
     "name": "stdout",
     "output_type": "stream",
     "text": [
      "Number of training graphs: 164\n",
      "Number of test graphs: 19\n"
     ]
    }
   ],
   "source": [
    "dataset = dataset.shuffle()\n",
    "ratio_train = .9\n",
    "size_train = int(len(dataset)*ratio_train)\n",
    "size_test = len(dataset)-size_train\n",
    "train_dataset = dataset[:size_train]\n",
    "test_dataset = dataset[size_train:]\n",
    "\n",
    "print(f'Number of training graphs: {len(train_dataset)}')\n",
    "print(f'Number of test graphs: {len(test_dataset)}')"
   ]
  },
  {
   "cell_type": "code",
   "execution_count": 8,
   "metadata": {
    "colab": {
     "base_uri": "https://localhost:8080/"
    },
    "id": "0gZ-l0npPIca",
    "outputId": "65b6d684-0e67-42f3-bf60-c98ec1d7338a"
   },
   "outputs": [
    {
     "name": "stdout",
     "output_type": "stream",
     "text": [
      "tensor([185.9000])\n",
      "Step 1:\n",
      "=======\n",
      "Number of graphs in the current batch: 8\n",
      "DataBatch(edge_index=[2, 116], bond_type=[116], bond_stereo=[116], x=[66, 15], y=[8], batch=[66], ptr=[9])\n",
      "\n",
      "Step 2:\n",
      "=======\n",
      "Number of graphs in the current batch: 8\n",
      "DataBatch(edge_index=[2, 118], bond_type=[118], bond_stereo=[118], x=[67, 15], y=[8], batch=[67], ptr=[9])\n",
      "\n",
      "Step 3:\n",
      "=======\n",
      "Number of graphs in the current batch: 8\n",
      "DataBatch(edge_index=[2, 98], bond_type=[98], bond_stereo=[98], x=[57, 15], y=[8], batch=[57], ptr=[9])\n",
      "\n",
      "Step 4:\n",
      "=======\n",
      "Number of graphs in the current batch: 8\n",
      "DataBatch(edge_index=[2, 118], bond_type=[118], bond_stereo=[118], x=[67, 15], y=[8], batch=[67], ptr=[9])\n",
      "\n",
      "Step 5:\n",
      "=======\n",
      "Number of graphs in the current batch: 8\n",
      "DataBatch(edge_index=[2, 108], bond_type=[108], bond_stereo=[108], x=[62, 15], y=[8], batch=[62], ptr=[9])\n",
      "\n",
      "Step 6:\n",
      "=======\n",
      "Number of graphs in the current batch: 8\n",
      "DataBatch(edge_index=[2, 114], bond_type=[114], bond_stereo=[114], x=[65, 15], y=[8], batch=[65], ptr=[9])\n",
      "\n",
      "Step 7:\n",
      "=======\n",
      "Number of graphs in the current batch: 8\n",
      "DataBatch(edge_index=[2, 130], bond_type=[130], bond_stereo=[130], x=[73, 15], y=[8], batch=[73], ptr=[9])\n",
      "\n",
      "Step 8:\n",
      "=======\n",
      "Number of graphs in the current batch: 8\n",
      "DataBatch(edge_index=[2, 106], bond_type=[106], bond_stereo=[106], x=[61, 15], y=[8], batch=[61], ptr=[9])\n",
      "\n",
      "Step 9:\n",
      "=======\n",
      "Number of graphs in the current batch: 8\n",
      "DataBatch(edge_index=[2, 118], bond_type=[118], bond_stereo=[118], x=[67, 15], y=[8], batch=[67], ptr=[9])\n",
      "\n",
      "Step 10:\n",
      "=======\n",
      "Number of graphs in the current batch: 8\n",
      "DataBatch(edge_index=[2, 106], bond_type=[106], bond_stereo=[106], x=[61, 15], y=[8], batch=[61], ptr=[9])\n",
      "\n",
      "Step 11:\n",
      "=======\n",
      "Number of graphs in the current batch: 8\n",
      "DataBatch(edge_index=[2, 94], bond_type=[94], bond_stereo=[94], x=[55, 15], y=[8], batch=[55], ptr=[9])\n",
      "\n",
      "Step 12:\n",
      "=======\n",
      "Number of graphs in the current batch: 8\n",
      "DataBatch(edge_index=[2, 122], bond_type=[122], bond_stereo=[122], x=[69, 15], y=[8], batch=[69], ptr=[9])\n",
      "\n",
      "Step 13:\n",
      "=======\n",
      "Number of graphs in the current batch: 8\n",
      "DataBatch(edge_index=[2, 110], bond_type=[110], bond_stereo=[110], x=[63, 15], y=[8], batch=[63], ptr=[9])\n",
      "\n",
      "Step 14:\n",
      "=======\n",
      "Number of graphs in the current batch: 8\n",
      "DataBatch(edge_index=[2, 118], bond_type=[118], bond_stereo=[118], x=[67, 15], y=[8], batch=[67], ptr=[9])\n",
      "\n",
      "Step 15:\n",
      "=======\n",
      "Number of graphs in the current batch: 8\n",
      "DataBatch(edge_index=[2, 92], bond_type=[92], bond_stereo=[92], x=[54, 15], y=[8], batch=[54], ptr=[9])\n",
      "\n",
      "Step 16:\n",
      "=======\n",
      "Number of graphs in the current batch: 8\n",
      "DataBatch(edge_index=[2, 106], bond_type=[106], bond_stereo=[106], x=[61, 15], y=[8], batch=[61], ptr=[9])\n",
      "\n",
      "Step 17:\n",
      "=======\n",
      "Number of graphs in the current batch: 8\n",
      "DataBatch(edge_index=[2, 126], bond_type=[126], bond_stereo=[126], x=[71, 15], y=[8], batch=[71], ptr=[9])\n",
      "\n",
      "Step 18:\n",
      "=======\n",
      "Number of graphs in the current batch: 8\n",
      "DataBatch(edge_index=[2, 118], bond_type=[118], bond_stereo=[118], x=[67, 15], y=[8], batch=[67], ptr=[9])\n",
      "\n",
      "Step 19:\n",
      "=======\n",
      "Number of graphs in the current batch: 8\n",
      "DataBatch(edge_index=[2, 126], bond_type=[126], bond_stereo=[126], x=[71, 15], y=[8], batch=[71], ptr=[9])\n",
      "\n",
      "Step 20:\n",
      "=======\n",
      "Number of graphs in the current batch: 8\n",
      "DataBatch(edge_index=[2, 124], bond_type=[124], bond_stereo=[124], x=[70, 15], y=[8], batch=[70], ptr=[9])\n",
      "\n",
      "Step 21:\n",
      "=======\n",
      "Number of graphs in the current batch: 4\n",
      "DataBatch(edge_index=[2, 68], bond_type=[68], bond_stereo=[68], x=[38, 15], y=[4], batch=[38], ptr=[5])\n",
      "\n"
     ]
    }
   ],
   "source": [
    "from torch_geometric.loader import DataLoader\n",
    "\n",
    "train_loader = DataLoader(train_dataset, batch_size=8, shuffle=True)\n",
    "test_loader = DataLoader(test_dataset, batch_size=32, shuffle=False)\n",
    "\n",
    "print(dataset[0].y)\n",
    "for step, data in enumerate(train_loader):\n",
    "    print(f'Step {step + 1}:')\n",
    "    print('=======')\n",
    "    print(f'Number of graphs in the current batch: {data.num_graphs}')\n",
    "    print(data)\n",
    "    print()"
   ]
  },
  {
   "cell_type": "code",
   "execution_count": 19,
   "metadata": {
    "colab": {
     "base_uri": "https://localhost:8080/"
    },
    "id": "CN3sRVuaQ88l",
    "outputId": "59c998ba-b387-4413-d7d3-2101a27495bd"
   },
   "outputs": [
    {
     "name": "stdout",
     "output_type": "stream",
     "text": [
      "MyGCN(\n",
      "  (conv1): GCNConv(15, 64)\n",
      "  (conv2): GCNConv(64, 64)\n",
      "  (lin): Linear(in_features=64, out_features=1, bias=True)\n",
      ")\n"
     ]
    }
   ],
   "source": [
    "from torch.nn import Linear\n",
    "import torch.nn.functional as F\n",
    "from torch_geometric.nn import GCNConv\n",
    "from torch_geometric.nn import global_add_pool\n",
    "\n",
    "\n",
    "class MyGCN(torch.nn.Module):\n",
    "    def __init__(self, input_channels,hidden_channels):\n",
    "        super(MyGCN, self).__init__()\n",
    "        self.conv1 = GCNConv(input_channels, hidden_channels)\n",
    "        self.conv2 = GCNConv(hidden_channels, hidden_channels)\n",
    "        self.lin = Linear(hidden_channels, 1)\n",
    "\n",
    "    def forward(self, x, edge_index, batch):\n",
    "        x = self.conv1(x, edge_index)\n",
    "        x = x.relu()\n",
    "        x = self.conv2(x, edge_index)\n",
    "        \n",
    "        x = global_add_pool(x, batch) \n",
    "        x = self.lin(x)\n",
    "        return x\n",
    "\n",
    "model = MyGCN(input_channels=dataset.num_features,hidden_channels=64)\n",
    "print(model)"
   ]
  },
  {
   "cell_type": "code",
   "execution_count": 20,
   "metadata": {
    "colab": {
     "base_uri": "https://localhost:8080/",
     "height": 300
    },
    "id": "HvhgQoO8Svw4",
    "outputId": "4d17af35-85c8-4bcd-8e16-c514fd2ff714"
   },
   "outputs": [
    {
     "name": "stderr",
     "output_type": "stream",
     "text": [
      "100%|████████████████████████████████████████████████████████████████████████████████████████████████████████████████████████████████████████████████████████| 999/999 [01:26<00:00, 11.57it/s]\n"
     ]
    }
   ],
   "source": [
    "model = MyGCN(input_channels=dataset.num_features,hidden_channels=128)\n",
    "optimizer = torch.optim.Adam(model.parameters(), lr=0.01)\n",
    "criterion = torch.nn.MSELoss(reduction=\"sum\")\n",
    "\n",
    "def my_mse(gt,pred):\n",
    "    \"\"\"\n",
    "    Compute the sum of squared errors between gt and pred\n",
    "    \"\"\"\n",
    "    return ((gt-pred)**2).sum()\n",
    "\n",
    "def train():\n",
    "    model.train()\n",
    "    loss_epoch = 0.0\n",
    "    for data in train_loader:  # Iterate in batches over the training dataset.\n",
    "        out = model(data.x, data.edge_index, data.batch)  # Perform a single forward pass.\n",
    "        loss = criterion(out, data.y.reshape(-1,1))  # Compute the loss.\n",
    "        loss_epoch += loss.item()\n",
    "        loss.backward()  # Derive gradients.\n",
    "        optimizer.step()  # Update parameters based on gradients.\n",
    "        optimizer.zero_grad()  # Clear gradients.\n",
    "        loss_epoch += loss.item()\n",
    "    return loss_epoch\n",
    "\n",
    "def test(loader):\n",
    "    model.eval()\n",
    "    sse = 0.0\n",
    "    nb = 0\n",
    "    for data in loader:  # Iterate in batches over the training/test dataset.\n",
    "        out = model(data.x, data.edge_index, data.batch)  \n",
    "        sse += my_mse(out, data.y.reshape(-1,1))\n",
    "    return sse\n",
    "\n",
    "losses=[]\n",
    "\n",
    "for epoch in tqdm(range(1, 1000)):\n",
    "    loss = train()\n",
    "    losses.append(loss)"
   ]
  },
  {
   "cell_type": "code",
   "execution_count": 21,
   "metadata": {},
   "outputs": [
    {
     "data": {
      "text/plain": [
       "33074.855377197266"
      ]
     },
     "execution_count": 21,
     "metadata": {},
     "output_type": "execute_result"
    },
    {
     "data": {
      "image/png": "[encoded data removed]",
      "text/plain": [
       "<Figure size 640x480 with 1 Axes>"
      ]
     },
     "metadata": {},
     "output_type": "display_data"
    }
   ],
   "source": [
    "import matplotlib.pyplot as plt\n",
    "plt.plot(losses)\n",
    "losses[-1]"
   ]
  },
  {
   "cell_type": "code",
   "execution_count": 22,
   "metadata": {},
   "outputs": [
    {
     "name": "stdout",
     "output_type": "stream",
     "text": [
      "MAE on train set :7.35\n"
     ]
    }
   ],
   "source": [
    "pred=np.zeros(size_train)\n",
    "gt=np.zeros(size_train)\n",
    "for i,data in enumerate(train_dataset):\n",
    "    pred[i] = model(data.x, data.edge_index, torch.tensor([0])).item()\n",
    "    gt[i] = data.y.item()\n",
    "mae_train = np.mean(np.abs((gt-pred)))\n",
    "print(f\"MAE on train set :{mae_train:.2f}\")"
   ]
  },
  {
   "cell_type": "code",
   "execution_count": 23,
   "metadata": {},
   "outputs": [
    {
     "name": "stdout",
     "output_type": "stream",
     "text": [
      "MAE on test set :8.67\n"
     ]
    }
   ],
   "source": [
    "pred=np.zeros(size_test)\n",
    "gt=np.zeros(size_test)\n",
    "for i,data in enumerate(test_dataset):\n",
    "    pred[i] = model(data.x, data.edge_index, torch.tensor([0])).item()\n",
    "    gt[i] = data.y.item()\n",
    "mae_test = np.mean(np.abs((gt-pred)))\n",
    "print(f\"MAE on test set :{mae_test:.2f}\")"
   ]
  },
  {
   "cell_type": "code",
   "execution_count": 24,
   "metadata": {},
   "outputs": [
    {
     "data": {
      "image/png": "[encoded data removed]",
      "text/plain": [
       "<Figure size 640x480 with 1 Axes>"
      ]
     },
     "metadata": {},
     "output_type": "display_data"
    }
   ],
   "source": [
    "\n",
    "plt.grid(color=\"lightgray\",alpha=.5,zorder=1)\n",
    "plt.gca().spines['top'].set_visible(False)\n",
    "plt.gca().spines['right'].set_visible(False)\n",
    "plt.title(\"Absolute error distribution\")\n",
    "plt.hist(np.abs(gt-pred),zorder=2);"
   ]
  },
  {
   "cell_type": "markdown",
   "metadata": {},
   "source": [
    "# With GCN builtin model"
   ]
  },
  {
   "cell_type": "code",
   "execution_count": 64,
   "metadata": {},
   "outputs": [
    {
     "name": "stdout",
     "output_type": "stream",
     "text": [
      "GCNReadout(\n",
      "  (gcn): GIN(15, 64, num_layers=2)\n",
      "  (fc): Linear(in_features=64, out_features=1, bias=True)\n",
      ")\n"
     ]
    }
   ],
   "source": [
    "from torch_geometric.nn import GCN\n",
    "from torch_geometric.nn import global_mean_pool\n",
    "from torch_geometric.nn import GIN\n",
    "\n",
    "class GCNReadout(torch.nn.Module):\n",
    "    def __init__(self, input_channels, hidden_channels):\n",
    "        super(GCNReadout, self).__init__()\n",
    "        self.gcn = GIN(in_channels=input_channels, hidden_channels=hidden_channels, num_layers=2)\n",
    "        self.fc = torch.nn.Linear(hidden_channels, 1)\n",
    "\n",
    "    def forward(self, data):\n",
    "        x, edge_index, batch = data.x, data.edge_index, data.batch\n",
    "\n",
    "        x = self.gcn(x, edge_index)\n",
    "\n",
    "        # Pooling\n",
    "        x = global_add_pool(x, batch)\n",
    "\n",
    "        # Readout layer\n",
    "        x = self.fc(x)\n",
    "\n",
    "        return x\n",
    "\n",
    "model = GCNReadout(input_channels=dataset.num_features,hidden_channels=64)\n",
    "print(model)"
   ]
  },
  {
   "cell_type": "code",
   "execution_count": null,
   "metadata": {},
   "outputs": [
    {
     "name": "stderr",
     "output_type": "stream",
     "text": [
      " 75%|██████████████████████████████████████████████████████████████████████████████████████████████████████████████████▍                                     | 752/999 [02:07<01:01,  3.99it/s]"
     ]
    }
   ],
   "source": [
    "model = GCNReadout(input_channels=dataset.num_features,hidden_channels=128)\n",
    "optimizer = torch.optim.Adam(model.parameters(), lr=0.01)\n",
    "criterion = torch.nn.MSELoss(reduction=\"sum\")\n",
    "\n",
    "def my_mse(gt,pred):\n",
    "    \"\"\"\n",
    "    Compute the sum of squared errors between gt and pred\n",
    "    \"\"\"\n",
    "    return ((gt-pred)**2).sum()\n",
    "\n",
    "def train():\n",
    "    model.train()\n",
    "    loss_epoch = 0.0\n",
    "    for data in train_loader:  # Iterate in batches over the training dataset.\n",
    "        out = model(data)  # Perform a single forward pass.\n",
    "        loss = criterion(out, data.y.reshape(-1,1))  # Compute the loss.\n",
    "        loss_epoch += loss.item()\n",
    "        loss.backward()  # Derive gradients.\n",
    "        optimizer.step()  # Update parameters based on gradients.\n",
    "        optimizer.zero_grad()  # Clear gradients.\n",
    "        loss_epoch += loss.item()\n",
    "    return loss_epoch\n",
    "\n",
    "def test(loader):\n",
    "    model.eval()\n",
    "    sse = 0.0\n",
    "    nb = 0\n",
    "    for data in loader:  # Iterate in batches over the training/test dataset.\n",
    "        out = model(data.x, data.edge_index, data.batch)  \n",
    "        sse += my_mse(out, data.y.reshape(-1,1))\n",
    "    return sse\n",
    "\n",
    "losses=[]\n",
    "\n",
    "for epoch in tqdm(range(1, 1000)):\n",
    "    loss = train()\n",
    "    losses.append(loss)"
   ]
  },
  {
   "cell_type": "code",
   "execution_count": null,
   "metadata": {},
   "outputs": [],
   "source": [
    "import matplotlib.pyplot as plt\n",
    "plt.plot(losses)\n",
    "losses[-1]"
   ]
  },
  {
   "cell_type": "code",
   "execution_count": null,
   "metadata": {},
   "outputs": [],
   "source": [
    "pred=np.zeros(size_train)\n",
    "gt=np.zeros(size_train)\n",
    "for i,data in enumerate(train_dataset):\n",
    "    pred[i] = model(data)\n",
    "    gt[i] = data.y.item()\n",
    "mae_train = np.mean(np.abs((gt-pred)))\n",
    "print(f\"MAE on train set :{mae_train:.2f}\")"
   ]
  },
  {
   "cell_type": "code",
   "execution_count": null,
   "metadata": {},
   "outputs": [],
   "source": [
    "pred=np.zeros(size_test)\n",
    "gt=np.zeros(size_test)\n",
    "for i,data in enumerate(test_dataset):\n",
    "    pred[i] = model(data).item()\n",
    "    gt[i] = data.y.item()\n",
    "mae_test = np.mean(np.abs((gt-pred)))\n",
    "print(f\"MAE on test set :{mae_test:.2f}\")"
   ]
  },
  {
   "cell_type": "code",
   "execution_count": null,
   "metadata": {},
   "outputs": [],
   "source": []
  }
 ],
 "metadata": {
  "colab": {
   "collapsed_sections": [],
   "provenance": []
  },
  "kernelspec": {
   "display_name": "ia_pour_la_chimie",
   "language": "python",
   "name": "ia_pour_la_chimie"
  },
  "language_info": {
   "codemirror_mode": {
    "name": "ipython",
    "version": 3
   },
   "file_extension": ".py",
   "mimetype": "text/x-python",
   "name": "python",
   "nbconvert_exporter": "python",
   "pygments_lexer": "ipython3",
   "version": "3.8.10"
  }
 },
 "nbformat": 4,
 "nbformat_minor": 4
}
