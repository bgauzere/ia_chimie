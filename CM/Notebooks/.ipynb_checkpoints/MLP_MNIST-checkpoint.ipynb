{
 "cells": [
  {
   "cell_type": "code",
   "execution_count": 6,
   "id": "3eaec244-6ae3-4be2-99f9-975dfb46418e",
   "metadata": {},
   "outputs": [
    {
     "data": {
      "text/plain": [
       "<matplotlib.image.AxesImage at 0x7f22c3b30a00>"
      ]
     },
     "execution_count": 6,
     "metadata": {},
     "output_type": "execute_result"
    },
    {
     "data": {
      "image/png": "[encoded data removed]",
      "text/plain": [
       "<Figure size 640x480 with 1 Axes>"
      ]
     },
     "metadata": {},
     "output_type": "display_data"
    }
   ],
   "source": [
    "import matplotlib.pyplot as plt\n",
    "from sklearn.datasets import load_digits\n",
    "\n",
    "X,y = load_digits(return_X_y = True)\n",
    "plt.imshow(X[124,:].reshape(8,8),cmap=\"gray\")"
   ]
  },
  {
   "cell_type": "code",
   "execution_count": 14,
   "id": "9ef2b123-e454-4d6f-8f4b-beb2f201b966",
   "metadata": {},
   "outputs": [
    {
     "name": "stdout",
     "output_type": "stream",
     "text": [
      "Iteration 1, loss = 2.51629026\n",
      "Iteration 2, loss = 2.03900144\n",
      "Iteration 3, loss = 1.80355178\n",
      "Iteration 4, loss = 1.55190050\n",
      "Iteration 5, loss = 1.30971368\n",
      "Iteration 6, loss = 1.07873818\n",
      "Iteration 7, loss = 0.86314476\n",
      "Iteration 8, loss = 0.66061686\n",
      "Iteration 9, loss = 0.51592321\n",
      "Iteration 10, loss = 0.40708354\n",
      "Iteration 11, loss = 0.33994089\n",
      "Iteration 12, loss = 0.27823386\n",
      "Iteration 13, loss = 0.23769783\n",
      "Iteration 14, loss = 0.20437948\n",
      "Iteration 15, loss = 0.17610076\n",
      "Iteration 16, loss = 0.15818606\n",
      "Iteration 17, loss = 0.13930824\n",
      "Iteration 18, loss = 0.12058604\n",
      "Iteration 19, loss = 0.10753122\n",
      "Iteration 20, loss = 0.09391424\n",
      "Iteration 21, loss = 0.08197579\n",
      "Iteration 22, loss = 0.07216040\n",
      "Iteration 23, loss = 0.06479592\n",
      "Iteration 24, loss = 0.05869571\n",
      "Iteration 25, loss = 0.05187959\n",
      "Iteration 26, loss = 0.04677763\n",
      "Iteration 27, loss = 0.04008642\n",
      "Iteration 28, loss = 0.03565790\n",
      "Iteration 29, loss = 0.03203612\n",
      "Iteration 30, loss = 0.02893512\n",
      "Iteration 31, loss = 0.02681815\n",
      "Iteration 32, loss = 0.02395085\n",
      "Iteration 33, loss = 0.02390352\n",
      "Iteration 34, loss = 0.02036223\n",
      "Iteration 35, loss = 0.01849636\n",
      "Iteration 36, loss = 0.01673835\n",
      "Iteration 37, loss = 0.01524918\n",
      "Iteration 38, loss = 0.01416202\n",
      "Iteration 39, loss = 0.01263289\n",
      "Iteration 40, loss = 0.01150579\n",
      "Iteration 41, loss = 0.01119845\n",
      "Iteration 42, loss = 0.01011972\n",
      "Iteration 43, loss = 0.00971410\n",
      "Iteration 44, loss = 0.00959045\n",
      "Iteration 45, loss = 0.00840781\n",
      "Iteration 46, loss = 0.00780687\n",
      "Iteration 47, loss = 0.00709664\n",
      "Iteration 48, loss = 0.00684448\n",
      "Iteration 49, loss = 0.00640736\n",
      "Iteration 50, loss = 0.00609288\n",
      "Iteration 51, loss = 0.00559763\n",
      "Iteration 52, loss = 0.00540672\n",
      "Iteration 53, loss = 0.00491807\n",
      "Iteration 54, loss = 0.00467570\n",
      "Iteration 55, loss = 0.00446715\n",
      "Iteration 56, loss = 0.00434427\n",
      "Iteration 57, loss = 0.00400083\n",
      "Iteration 58, loss = 0.00391561\n",
      "Iteration 59, loss = 0.00371672\n",
      "Iteration 60, loss = 0.00350226\n",
      "Iteration 61, loss = 0.00339238\n",
      "Iteration 62, loss = 0.00325642\n",
      "Iteration 63, loss = 0.00312932\n",
      "Iteration 64, loss = 0.00302574\n",
      "Iteration 65, loss = 0.00291560\n",
      "Iteration 66, loss = 0.00277525\n",
      "Iteration 67, loss = 0.00269261\n",
      "Iteration 68, loss = 0.00256163\n",
      "Iteration 69, loss = 0.00249794\n",
      "Iteration 70, loss = 0.00240194\n",
      "Iteration 71, loss = 0.00229777\n",
      "Iteration 72, loss = 0.00221572\n",
      "Iteration 73, loss = 0.00214704\n",
      "Iteration 74, loss = 0.00206897\n",
      "Iteration 75, loss = 0.00199319\n",
      "Iteration 76, loss = 0.00193634\n",
      "Iteration 77, loss = 0.00185472\n",
      "Iteration 78, loss = 0.00179494\n",
      "Iteration 79, loss = 0.00173922\n",
      "Iteration 80, loss = 0.00169698\n",
      "Iteration 81, loss = 0.00163474\n",
      "Iteration 82, loss = 0.00159524\n",
      "Training loss did not improve more than tol=0.000100 for 10 consecutive epochs. Stopping.\n"
     ]
    },
    {
     "data": {
      "text/html": [
       "<style>#sk-container-id-4 {color: black;}#sk-container-id-4 pre{padding: 0;}#sk-container-id-4 div.sk-toggleable {background-color: white;}#sk-container-id-4 label.sk-toggleable__label {cursor: pointer;display: block;width: 100%;margin-bottom: 0;padding: 0.3em;box-sizing: border-box;text-align: center;}#sk-container-id-4 label.sk-toggleable__label-arrow:before {content: \"▸\";float: left;margin-right: 0.25em;color: #696969;}#sk-container-id-4 label.sk-toggleable__label-arrow:hover:before {color: black;}#sk-container-id-4 div.sk-estimator:hover label.sk-toggleable__label-arrow:before {color: black;}#sk-container-id-4 div.sk-toggleable__content {max-height: 0;max-width: 0;overflow: hidden;text-align: left;background-color: #f0f8ff;}#sk-container-id-4 div.sk-toggleable__content pre {margin: 0.2em;color: black;border-radius: 0.25em;background-color: #f0f8ff;}#sk-container-id-4 input.sk-toggleable__control:checked~div.sk-toggleable__content {max-height: 200px;max-width: 100%;overflow: auto;}#sk-container-id-4 input.sk-toggleable__control:checked~label.sk-toggleable__label-arrow:before {content: \"▾\";}#sk-container-id-4 div.sk-estimator input.sk-toggleable__control:checked~label.sk-toggleable__label {background-color: #d4ebff;}#sk-container-id-4 div.sk-label input.sk-toggleable__control:checked~label.sk-toggleable__label {background-color: #d4ebff;}#sk-container-id-4 input.sk-hidden--visually {border: 0;clip: rect(1px 1px 1px 1px);clip: rect(1px, 1px, 1px, 1px);height: 1px;margin: -1px;overflow: hidden;padding: 0;position: absolute;width: 1px;}#sk-container-id-4 div.sk-estimator {font-family: monospace;background-color: #f0f8ff;border: 1px dotted black;border-radius: 0.25em;box-sizing: border-box;margin-bottom: 0.5em;}#sk-container-id-4 div.sk-estimator:hover {background-color: #d4ebff;}#sk-container-id-4 div.sk-parallel-item::after {content: \"\";width: 100%;border-bottom: 1px solid gray;flex-grow: 1;}#sk-container-id-4 div.sk-label:hover label.sk-toggleable__label {background-color: #d4ebff;}#sk-container-id-4 div.sk-serial::before {content: \"\";position: absolute;border-left: 1px solid gray;box-sizing: border-box;top: 0;bottom: 0;left: 50%;z-index: 0;}#sk-container-id-4 div.sk-serial {display: flex;flex-direction: column;align-items: center;background-color: white;padding-right: 0.2em;padding-left: 0.2em;position: relative;}#sk-container-id-4 div.sk-item {position: relative;z-index: 1;}#sk-container-id-4 div.sk-parallel {display: flex;align-items: stretch;justify-content: center;background-color: white;position: relative;}#sk-container-id-4 div.sk-item::before, #sk-container-id-4 div.sk-parallel-item::before {content: \"\";position: absolute;border-left: 1px solid gray;box-sizing: border-box;top: 0;bottom: 0;left: 50%;z-index: -1;}#sk-container-id-4 div.sk-parallel-item {display: flex;flex-direction: column;z-index: 1;position: relative;background-color: white;}#sk-container-id-4 div.sk-parallel-item:first-child::after {align-self: flex-end;width: 50%;}#sk-container-id-4 div.sk-parallel-item:last-child::after {align-self: flex-start;width: 50%;}#sk-container-id-4 div.sk-parallel-item:only-child::after {width: 0;}#sk-container-id-4 div.sk-dashed-wrapped {border: 1px dashed gray;margin: 0 0.4em 0.5em 0.4em;box-sizing: border-box;padding-bottom: 0.4em;background-color: white;}#sk-container-id-4 div.sk-label label {font-family: monospace;font-weight: bold;display: inline-block;line-height: 1.2em;}#sk-container-id-4 div.sk-label-container {text-align: center;}#sk-container-id-4 div.sk-container {/* jupyter's `normalize.less` sets `[hidden] { display: none; }` but bootstrap.min.css set `[hidden] { display: none !important; }` so we also need the `!important` here to be able to override the default hidden behavior on the sphinx rendered scikit-learn.org. See: https://github.com/scikit-learn/scikit-learn/issues/21755 */display: inline-block !important;position: relative;}#sk-container-id-4 div.sk-text-repr-fallback {display: none;}</style><div id=\"sk-container-id-4\" class=\"sk-top-container\"><div class=\"sk-text-repr-fallback\"><pre>MLPClassifier(hidden_layer_sizes=(64, 32, 16, 64), verbose=True)</pre><b>In a Jupyter environment, please rerun this cell to show the HTML representation or trust the notebook. <br />On GitHub, the HTML representation is unable to render, please try loading this page with nbviewer.org.</b></div><div class=\"sk-container\" hidden><div class=\"sk-item\"><div class=\"sk-estimator sk-toggleable\"><input class=\"sk-toggleable__control sk-hidden--visually\" id=\"sk-estimator-id-4\" type=\"checkbox\" checked><label for=\"sk-estimator-id-4\" class=\"sk-toggleable__label sk-toggleable__label-arrow\">MLPClassifier</label><div class=\"sk-toggleable__content\"><pre>MLPClassifier(hidden_layer_sizes=(64, 32, 16, 64), verbose=True)</pre></div></div></div></div></div>"
      ],
      "text/plain": [
       "MLPClassifier(hidden_layer_sizes=(64, 32, 16, 64), verbose=True)"
      ]
     },
     "execution_count": 14,
     "metadata": {},
     "output_type": "execute_result"
    }
   ],
   "source": [
    "from sklearn.neural_network import MLPClassifier\n",
    "from sklearn.model_selection import train_test_split\n",
    "\n",
    "mlp = MLPClassifier(hidden_layer_sizes=(64,32,16), activation='relu',verbose=True)\n",
    "X_train, X_test, y_train, y_test = train_test_split(X,y)\n",
    "\n",
    "mlp.fit(X_train,y_train)"
   ]
  },
  {
   "cell_type": "code",
   "execution_count": 15,
   "id": "04eaf24c-9164-47a9-9eed-d325cee8e6a0",
   "metadata": {},
   "outputs": [
    {
     "name": "stdout",
     "output_type": "stream",
     "text": [
      "0.9733333333333334\n"
     ]
    }
   ],
   "source": [
    "from sklearn.metrics import accuracy_score\n",
    "print(accuracy_score(y_test,mlp.predict(X_test)))"
   ]
  },
  {
   "cell_type": "code",
   "execution_count": null,
   "id": "cd79c894-3a39-4e07-b590-e0dc2903d679",
   "metadata": {},
   "outputs": [],
   "source": []
  }
 ],
 "metadata": {
  "kernelspec": {
   "display_name": "ia_pour_la_chimie",
   "language": "python",
   "name": "ia_pour_la_chimie"
  },
  "language_info": {
   "codemirror_mode": {
    "name": "ipython",
    "version": 3
   },
   "file_extension": ".py",
   "mimetype": "text/x-python",
   "name": "python",
   "nbconvert_exporter": "python",
   "pygments_lexer": "ipython3",
   "version": "3.8.10"
  }
 },
 "nbformat": 4,
 "nbformat_minor": 5
}
