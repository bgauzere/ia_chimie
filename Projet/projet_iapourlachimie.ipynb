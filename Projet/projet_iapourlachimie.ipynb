{
 "cells": [
  {
   "cell_type": "markdown",
   "metadata": {},
   "source": [
    "# Homework Assignment: Exploring the eSOLV Dataset with Machine Learning\n",
    "\n",
    "## Introduction\n",
    "\n",
    "In this homework project, you will be undertaking a detailed exploration of the eSOLV dataset using machine learning (ML) techniques. This project can be done in this Jupyter notebook\n",
    "\n",
    "## Dataset Overview\n",
    "\n",
    "The eSOLV dataset is part of the moleculenet dataset, published in [1]. The eSOLV dataset is a compilation of molecules extracted from a initial publication [2]. This dataset is composed of 1128 molecules, each molecule being associated to its water solubility. \n",
    "\n",
    "References\n",
    "\n",
    "[1] Zhenqin Wu, Bharath Ramsundar, Evan N. Feinberg, Joseph Gomes, Caleb Geniesse, Aneesh S. Pappu, Karl Leswing, Vijay Pande, MoleculeNet: A Benchmark for Molecular Machine Learning, arXiv preprint, arXiv: 1703.00564, 2017.\n",
    "\n",
    "[2] Delaney, J. S. (2004). ESOL: estimating aqueous solubility directly from molecular structure. Journal of chemical information and computer sciences, 44(3), 1000-1005.\n",
    "\n",
    "## Assignment Objective\n",
    "\n",
    "The primary goal of this project is to implement a prediction model on the eSOLV dataset.\n",
    "\n",
    "## Approach and Methodology\n",
    "\n",
    "The approach to this project should involve these key stages:\n",
    "\n",
    "* **Data Exploration and Preprocessing**: Present the dataset, identify its characteristics, and perform any necessary preprocessing steps (cleaning, normalizing, and feature engineering).\n",
    "\n",
    "* **Model Selection and Implementation**: Select appropriate ML models based on the dataset's features and  problem statement. The models we plan to explore include the ones presented during the 4 lessons. Use these models and fine-tune their hyper parameters for optimal performance.\n",
    "\n",
    "* **Evaluation and Analysis**: The effectiveness of each model will be evaluated using the metric of your choice. Analyze the results to understand each model's strengths and limitations. For your information, the website [https://moleculenet.org/] provides some reference scores.\n",
    "\n",
    "\n",
    "\n",
    "<div>\n",
    "<img src=\"result_r2.png\" height=\"500\"/>\n",
    "<img src=\"result_rmse.png\" height=\"500\"/>\n",
    "\n",
    "</div>\n",
    "\n",
    "\n",
    "* **Conclusion and Insights**: Finally, summarize our findings, discuss any insights gained, and reflect on how our approach addresses the problem statement.\n",
    "\n",
    "## Assignment Instructions\n",
    "\n",
    "As you work through this assignment, ensure that you:\n",
    "\n",
    "* Thoroughly document each step in the Jupyter notebook.\n",
    "* Include visualizations to aid in data exploration and results interpretation.\n",
    "* Provide explanations for your choices in preprocessing, model selection, and evaluation methods.\n",
    "* Reflect on the results and discuss potential improvements or alternative approaches.\n",
    "\n",
    "It's ok to compute more descriptors or to find more data. But if you use something, explain it in details and justify why it's useful. Any copy-pasted data without explanation will induce penalities.\n",
    "\n",
    "When your project is finished, drop your ipynb file with all necessaries files on universitice : []\n",
    "\n",
    "\n"
   ]
  },
  {
   "cell_type": "markdown",
   "metadata": {},
   "source": [
    "# Dataset loading\n",
    "\n",
    "To work on the eSOLV dataset, the function  `load_esolv` allows to load the dataset in different formats: \n",
    "* graph embeddings: `data['X']`\n",
    "* data for pytorch and GNN : `data['torch_data']`\n",
    "* SMILES representation : `data['smiles']`\n",
    "* networkX graphs : `data['graphs']`"
   ]
  },
  {
   "cell_type": "code",
   "execution_count": 2,
   "metadata": {},
   "outputs": [
    {
     "name": "stderr",
     "output_type": "stream",
     "text": [
      "Skipped loading some Tensorflow models, missing a dependency. No module named 'tensorflow'\n",
      "Skipped loading modules with pytorch-lightning dependency, missing a dependency. No module named 'pytorch_lightning'\n",
      "Skipped loading some Jax models, missing a dependency. No module named 'jax'\n"
     ]
    }
   ],
   "source": [
    "import deepchem as dc\n",
    "from rdkit import Chem\n",
    "import networkx as nx\n",
    "from torch_geometric.data import Data\n",
    "import torch\n",
    "\n",
    "\n",
    "def smiles_to_nx_with_features(smiles):\n",
    "    mol = Chem.MolFromSmiles(smiles)\n",
    "    G = nx.Graph()\n",
    "\n",
    "    for atom in mol.GetAtoms():\n",
    "        G.add_node(atom.GetIdx(), \n",
    "                   atomic_num=atom.GetAtomicNum(),\n",
    "                   formal_charge=atom.GetFormalCharge(),\n",
    "                   num_explicit_hs=atom.GetNumExplicitHs(),\n",
    "                   num_implicit_hs=atom.GetNumImplicitHs(),\n",
    "                   degree=atom.GetDegree(),\n",
    "                   total_degree=atom.GetTotalDegree(),\n",
    "                   is_aromatic=atom.GetIsAromatic())\n",
    "\n",
    "    for bond in mol.GetBonds():\n",
    "        G.add_edge(bond.GetBeginAtomIdx(), bond.GetEndAtomIdx(), bond_type=bond.GetBondType())\n",
    "\n",
    "    return G\n",
    "\n",
    "def graph_to_pyg_data(graph):\n",
    "    edge_index = torch.tensor(list(graph.edges)).t().contiguous()\n",
    "    x = torch.tensor([list(data.values()) for _, data in graph.nodes(data=True)], dtype=torch.float)\n",
    "    data = Data(x=x, edge_index=edge_index)\n",
    "    return data"
   ]
  },
  {
   "cell_type": "code",
   "execution_count": 3,
   "metadata": {},
   "outputs": [],
   "source": [
    "\n",
    "\n",
    "\n",
    "def load_esolv():\n",
    "    _, datasets, _ = dc.molnet.load_delaney(featurizer='ecfp',splitter='random')\n",
    "    X = datasets[0].X\n",
    "    y = datasets[0].y\n",
    "    X_smiles = datasets[0].ids\n",
    "    pyg_datasets = []\n",
    "    nx_graphs = []\n",
    "    for smiles in X_smiles:\n",
    "        graph = smiles_to_nx_with_features(smiles) # networkx\n",
    "        nx_graphs.append(graph)\n",
    "        pyg_data = graph_to_pyg_data(graph)  # torch_geometric\n",
    "        pyg_datasets.append(pyg_data)\n",
    "\n",
    "    return {\"X\": X, \"y\": y, \"torch_data\": pyg_datasets, \"smiles\": X_smiles,\"graphs\": nx_graphs}\n",
    "    "
   ]
  },
  {
   "cell_type": "code",
   "execution_count": 4,
   "metadata": {},
   "outputs": [],
   "source": [
    "data = load_esolv()"
   ]
  },
  {
   "cell_type": "markdown",
   "metadata": {},
   "source": [
    "## Example\n",
    "Here's a simple example just to test if everything is ok\n"
   ]
  },
  {
   "cell_type": "code",
   "execution_count": 7,
   "metadata": {},
   "outputs": [
    {
     "name": "stdout",
     "output_type": "stream",
     "text": [
      "RF RMSE:  0.9964987719542534\n",
      "RF R2:  -0.0016202535650102767\n"
     ]
    }
   ],
   "source": [
    "from sklearn.model_selection import train_test_split\n",
    "X = data[\"X\"]\n",
    "y= data[\"y\"]\n",
    "\n",
    "X_train, X_test, y_train, y_test = train_test_split(X, y, test_size=0.1)\n",
    "\n",
    "from sklearn.dummy import DummyRegressor\n",
    "from sklearn.metrics import mean_squared_error\n",
    "from sklearn.metrics import r2_score\n",
    "\n",
    "rf = DummyRegressor()\n",
    "rf.fit(X_train, y_train)\n",
    "y_pred = rf.predict(X_test)\n",
    "# Result are not good since it's dummy !\n",
    "print(\"RF RMSE: \", mean_squared_error(y_test, y_pred, squared=False))\n",
    "print(\"RF R2: \", r2_score(y_test, y_pred))\n",
    "\n",
    "\n"
   ]
  },
  {
   "cell_type": "code",
   "execution_count": null,
   "metadata": {},
   "outputs": [],
   "source": []
  }
 ],
 "metadata": {
  "kernelspec": {
   "display_name": "ia_pour_la_chimie",
   "language": "python",
   "name": "ia_pour_la_chimie"
  },
  "language_info": {
   "codemirror_mode": {
    "name": "ipython",
    "version": 3
   },
   "file_extension": ".py",
   "mimetype": "text/x-python",
   "name": "python",
   "nbconvert_exporter": "python",
   "pygments_lexer": "ipython3",
   "version": "3.8.10"
  }
 },
 "nbformat": 4,
 "nbformat_minor": 4
}
